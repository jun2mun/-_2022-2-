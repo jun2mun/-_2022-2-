{
  "nbformat": 4,
  "nbformat_minor": 0,
  "metadata": {
    "colab": {
      "provenance": []
    },
    "kernelspec": {
      "name": "python3",
      "display_name": "Python 3"
    },
    "language_info": {
      "name": "python"
    }
  },
  "cells": [
    {
      "cell_type": "code",
      "metadata": {
        "id": "Wy0dOZ6ghj2U"
      },
      "source": [
        "import numpy as np\n",
        "import matplotlib.pyplot as plt\n",
        "from scipy.stats import norm\n",
        "from IPython.display import clear_output \n",
        "import calendar\n",
        "from datetime import datetime, timedelta\n",
        "import math"
      ],
      "execution_count": 16,
      "outputs": []
    },
    {
      "cell_type": "code",
      "source": [
        "#@title <font color='Blue'>**Import**</font>\n",
        "!pip install yfinance\n",
        "!pip install pandas_datareader\n",
        "import yfinance as yf\n",
        "from pandas_datareader import data as pdr\n",
        "import pandas as pd\n",
        "yf.pdr_override() \n",
        "\n",
        "clear_output()"
      ],
      "metadata": {
        "id": "8jeuZpGgNHgV"
      },
      "execution_count": 17,
      "outputs": []
    },
    {
      "cell_type": "code",
      "source": [
        "#@title <font color='Blue'>**Method**</font>\n",
        "def bscall(S, K, T, r, sig):\n",
        "    d1 = (np.log(S/K) + (r + 0.5 *sig**2) * T )/(sig * np.sqrt(T))\n",
        "    d2 = (np.log(S / K) + (r - 0.5 * sig ** 2) * T) / (sig * np.sqrt(T))\n",
        "    return S * norm.cdf(d1) - K * np.exp(-r*T) * norm.cdf(d2)\n",
        "\n",
        "def bsput(S, K, T, r, sig):\n",
        "    d1 = (np.log(S / K) + (r + 0.5 * sig ** 2) * T) / (sig * np.sqrt(T))\n",
        "    d2 = (np.log(S / K) + (r - 0.5 * sig ** 2) * T) / (sig * np.sqrt(T))\n",
        "    return K * np.exp(-r*T) * norm.cdf(-d2) - S * norm.cdf(-d1)"
      ],
      "metadata": {
        "id": "o5kLYg5LPfDS"
      },
      "execution_count": 18,
      "outputs": []
    },
    {
      "cell_type": "code",
      "source": [
        "#@title <font color='Blue'>**Setting**</font>\n",
        "# ======== 1 ======== #\n",
        "r = 0.00 # 0.0으로 두면 계산이 편해짐 -> 이자율만 이야기함.\n",
        "sig = 0.2  # 주식의 변동성 - 20%가 가장 흔히 쓰는 주식의 변동성\n",
        "T = 30/365 # 1년 중 30일\n",
        "N = 30 # 나눔수\n",
        "dt = T/N # T를 N개로 나눠서 보겠다.\n",
        "rdt = r * dt\n",
        "sigsdt = sig * np.sqrt(dt)\n",
        "\n",
        "# ======== 2 ======== #\n",
        "STOCK_CODE = \"^KS11\"\n",
        "start_date = \"2021-01-01\"\n",
        "end_date = \"2022-10-01\"\n",
        "\n",
        "STOCK_DATA = pdr.get_data_yahoo(STOCK_CODE, start=start_date, end=end_date)[\"Close\"]\n",
        "stockArray = STOCK_DATA.to_numpy()\n",
        "M = math.floor(len(stockArray)/(N+1))\n",
        "S = stockArray[:M*(N+1)].reshape(M,N+1)"
      ],
      "metadata": {
        "colab": {
          "base_uri": "https://localhost:8080/"
        },
        "id": "6vJwOh7TNpaw",
        "outputId": "b5ceb00d-a4b1-4e5a-cd19-7b117ae59808"
      },
      "execution_count": 19,
      "outputs": [
        {
          "output_type": "stream",
          "name": "stdout",
          "text": [
            "\r[*********************100%***********************]  1 of 1 completed\n"
          ]
        }
      ]
    },
    {
      "cell_type": "code",
      "metadata": {
        "id": "2BDd4jERjtcC"
      },
      "source": [
        "#@title <font color='Blue'>**BlackSholesModel**</font>\n",
        "a = []\n",
        "K = S[0][0]\n",
        "\n",
        "for i in range(M):\n",
        "    cost = 0\n",
        "    price = S[i,0]\n",
        "    for j in range(N):\n",
        "        d1 = (np.log(price/K)+(r+0.5*sig**2)*(T-j*dt))/(sig*np.sqrt(T-j*dt))\n",
        "        delta = norm.cdf(d1)  \n",
        "        cost = cost + delta*(price-S[i,j])\n",
        "        price = S[i,j+1]\n",
        "\n",
        "    cost = cost + np.maximum(S[i,N]-K,0) - bscall(S[0][0],K,T,r,sig)\n",
        "    a.append(cost)"
      ],
      "execution_count": 20,
      "outputs": []
    },
    {
      "cell_type": "code",
      "metadata": {
        "colab": {
          "base_uri": "https://localhost:8080/",
          "height": 283
        },
        "id": "M_j4IS91-URE",
        "outputId": "161f78fe-fcb8-406f-eab9-271286a63f0c"
      },
      "source": [
        "#@title <font color='Blue'>**Result2**</font>\n",
        "plt.plot(S[:,-1], a, marker=\".\", linestyle='none')"
      ],
      "execution_count": 21,
      "outputs": [
        {
          "output_type": "execute_result",
          "data": {
            "text/plain": [
              "[<matplotlib.lines.Line2D at 0x7f1b9e7213d0>]"
            ]
          },
          "metadata": {},
          "execution_count": 21
        },
        {
          "output_type": "display_data",
          "data": {
            "text/plain": [
              "<Figure size 432x288 with 1 Axes>"
            ],
            "image/png": "[encoded data removed]"
          },
          "metadata": {
            "needs_background": "light"
          }
        }
      ]
    }
  ]
}