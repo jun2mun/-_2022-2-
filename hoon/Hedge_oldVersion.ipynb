{
 "cells": [
  {
   "cell_type": "code",
   "execution_count": 15,
   "metadata": {
    "id": "hlB7hkoGDaj3"
   },
   "outputs": [],
   "source": [
    "import numpy as np\n",
    "import matplotlib.pyplot as plt\n",
    "from scipy.stats import norm\n",
    "import tensorflow as tf"
   ]
  },
  {
   "cell_type": "code",
   "execution_count": 16,
   "metadata": {
    "id": "Ob8m-mIsEIHU"
   },
   "outputs": [],
   "source": [
    "def bscall(S, K, T, r, sig):\n",
    "    d1 = (np.log(S/K) + (r + 0.5 *sig**2) * T )/(sig * np.sqrt(T))\n",
    "    d2 = (np.log(S / K) + (r - 0.5 * sig ** 2) * T) / (sig * np.sqrt(T))\n",
    "    return S * norm.cdf(d1) - K * np.exp(-r*T) * norm.cdf(d2)\n",
    "\n",
    "def bsput(S, K, T, r, sig):\n",
    "    d1 = (np.log(S / K) + (r + 0.5 * sig ** 2) * T) / (sig * np.sqrt(T))\n",
    "    d2 = (np.log(S / K) + (r - 0.5 * sig ** 2) * T) / (sig * np.sqrt(T))\n",
    "    return K * np.exp(-r*T) * norm.cdf(-d2) - S * norm.cdf(-d1)"
   ]
  },
  {
   "cell_type": "code",
   "execution_count": 17,
   "metadata": {
    "id": "nT3HEUkgENUj"
   },
   "outputs": [],
   "source": [
    "# ======== 1 ======== #\n",
    "r = 0.00 # 0.0으로 두면 계산이 편해짐 -> 이자율만 이야기함.\n",
    "sig = 0.2  # 주식의 변동성 - 20%가 가장 흔히 쓰는 주식의 변동성\n",
    "T = 30/365 # 1년 중 30일\n",
    "\n",
    "M = 1000 # 시뮬레이션 수 ( 100개의 시나리오를 테스트하겠다. )\n",
    "N = 30 # 나눔수\n",
    "\n",
    "dt = T/N # T를 N개로 나눠서 보겠다.\n",
    "rdt = r * dt\n",
    "sigsdt = sig * np.sqrt(dt)\n",
    "\n",
    "# ======== 2 ======== #\n",
    "S0 = 100\n",
    "np.random.seed(100) # 랜덤 변수 고정\n",
    "S = np.empty([M,N+1]) # 100 * 31 배열\n",
    "rv = np.random.normal(r*dt, sigsdt, [M,N])\n",
    "\n",
    "# ======== 3 ======== #\n",
    "for i in range(M):\n",
    "    S[i,0] = S0\n",
    "    for j in range(N):\n",
    "        S[i,j+1] = S[i,j] * (1 + rv[i,j])"
   ]
  },
  {
   "cell_type": "code",
   "execution_count": 18,
   "metadata": {
    "colab": {
     "base_uri": "https://localhost:8080/",
     "height": 268
    },
    "id": "jRKA02c0EO8p",
    "outputId": "2327b250-6091-45ea-c23b-f92b3bbc6f69"
   },
   "outputs": [
    {
     "data": {
      "image/png": "[encoded data removed]",
      "text/plain": [
       "<Figure size 640x480 with 1 Axes>"
      ]
     },
     "metadata": {},
     "output_type": "display_data"
    }
   ],
   "source": [
    "a = []\n",
    "K = 100\n",
    "\n",
    "for i in range(M):\n",
    "    cost = 0\n",
    "    price = S[i,0]\n",
    "    for j in range(N):\n",
    "        d1 = (np.log(S[i,j]/K) + (r + 0.5 *sig**2) * (T-j*dt))/(sig * np.sqrt(T-j*dt)) # Black Scholes의 Call option delta\n",
    "        delta = norm.cdf(d1)\n",
    "        cost = cost + delta * (price-S[i,j+1])\n",
    "        price = S[i,j+1]\n",
    "\n",
    "\n",
    "\n",
    "    # cost = cost + np.maximum(S[i, N] - K, 0)\n",
    "    a.append(cost)\n",
    "\n",
    "plt.plot(S[:,-1], a, marker=\".\", linestyle='none')\n",
    "plt.show()"
   ]
  },
  {
   "cell_type": "code",
   "execution_count": 19,
   "metadata": {
    "colab": {
     "base_uri": "https://localhost:8080/",
     "height": 564
    },
    "id": "wRUk9zyXEUma",
    "outputId": "da93b1fe-a90e-4567-b53c-752bfb79a8bc"
   },
   "outputs": [
    {
     "name": "stdout",
     "output_type": "stream",
     "text": [
      "You must install pydot (`pip install pydot`) and install graphviz (see instructions at https://graphviz.gitlab.io/download/) for plot_model to work.\n"
     ]
    }
   ],
   "source": [
    "my_input = []\n",
    "\n",
    "hedge_cost = tf.keras.layers.Input(shape=(1,), name='hedge_cost')\n",
    "my_input = my_input + [hedge_cost]\n",
    "\n",
    "price = tf.keras.layers.Input(shape=(1,), name='price')\n",
    "my_input = my_input + [price]\n",
    "\n",
    "for j in range(3):\n",
    "    delta = tf.keras.layers.Dense(1, name=str(j))(price)\n",
    "\n",
    "    new_price = tf.keras.layers.Input(shape=(1,), name=\"S_\"+str(j))\n",
    "    my_input = my_input + [new_price]\n",
    "\n",
    "    price_inc = tf.keras.layers.Subtract(name=\"price_inc\"+str(j))([price,new_price])\n",
    "    cost = tf.keras.layers.Multiply(name=\"multiply\"+str(j))([delta, price_inc])\n",
    "    hedge_cost = tf.keras.layers.Add(name=\"cost_\"+str(j))([hedge_cost, cost])\n",
    "    price = new_price\n",
    "\n",
    "model = tf.keras.Model(inputs=my_input, outputs=hedge_cost)\n",
    "\n",
    "tf.keras.utils.plot_model(model)"
   ]
  },
  {
   "cell_type": "code",
   "execution_count": 20,
   "metadata": {
    "colab": {
     "base_uri": "https://localhost:8080/",
     "height": 836
    },
    "id": "ccZIcyxIjTWM",
    "outputId": "2b3236b8-cda4-40b4-d0e1-98d43a2c1247"
   },
   "outputs": [
    {
     "name": "stdout",
     "output_type": "stream",
     "text": [
      "You must install pydot (`pip install pydot`) and install graphviz (see instructions at https://graphviz.gitlab.io/download/) for plot_model to work.\n"
     ]
    }
   ],
   "source": [
    "my_input = []\n",
    "\n",
    "premium = tf.keras.layers.Input(shape=(1,), name=\"premium\")\n",
    "my_input = my_input + [premium]\n",
    "\n",
    "\n",
    "hedge_cost = tf.keras.layers.Input(shape=(1,), name=\"hedge_cost\")\n",
    "my_input = my_input + [hedge_cost]\n",
    "\n",
    "price = tf.keras.layers.Input(shape=(1,), name=\"price\")\n",
    "my_input = my_input + [price]\n",
    "\n",
    "for j in range(N):\n",
    "\n",
    "  delta = tf.keras.layers.Dense(32, activation='tanh')(price)\n",
    "  # delta = tf.keras.layers.BatchNormalization()(delta)\n",
    "\n",
    "  # delta = tf.keras.layers.Dense(32, activation='relu')(price)\n",
    "  # delta = tf.keras.layers.BatchNormalization()(delta)\n",
    "\n",
    "  # delta = tf.keras.layers.Dense(32, activation='tanh')(price)\n",
    "  # delta = tf.keras.layers.BatchNormalization()(delta)\n",
    "\n",
    "  delta = tf.keras.layers.Dense(1)(delta)\n",
    "\n",
    "  new_price = tf.keras.layers.Input(shape=(1,), name='S'+str(j))\n",
    "  my_input = my_input + [new_price]\n",
    "\n",
    "  price_inc = tf.keras.layers.Subtract(name=\"price_inc\"+str(j))([price,new_price])\n",
    "  cost = tf.keras.layers.Multiply(name=\"multiply\"+str(j))([delta, price_inc])\n",
    "  hedge_cost = tf.keras.layers.Add(name=\"cost_\"+str(j))([hedge_cost, cost])\n",
    "  price = new_price\n",
    "\n",
    "payoff = tf.keras.layers.Lambda(lambda x : 0.5*(tf.abs(x-K) + x - K))(price)\n",
    "cum_cost = tf.keras.layers.Add(name='final')([hedge_cost, payoff])\n",
    "cum_cost = tf.keras.layers.Subtract(name='final_')([cum_cost, premium])\n",
    "\n",
    "model = tf.keras.Model(inputs=my_input, outputs=cum_cost)\n",
    "\n",
    "tf.keras.utils.plot_model(model)"
   ]
  },
  {
   "cell_type": "code",
   "execution_count": 21,
   "metadata": {
    "id": "W2WqjychrXoF"
   },
   "outputs": [],
   "source": [
    "# p = 2.2871506280449694 * np.ones([M,1])\n",
    "# c = np.zeros([M,1])\n",
    "# SS = [S[:,1].reshape(M,1) for i in range(N+1)]\n",
    "# x = [p] + [c] + [SS]\n",
    "# y = np.zeros([M,1])\n",
    "\n",
    "S0 = 100\n",
    "K = 100\n",
    "T = 30/365\n",
    "r = 0.0\n",
    "sig = 0.2\n",
    "\n",
    "p = bscall(S0,K,T,r,sig) * np.ones([M,1])\n",
    "c = np.zeros([M,1])\n",
    "SS = [S[:,i].reshape(M,1) for i in range(N+1)]\n",
    "x = [p]+[c]+[SS]\n",
    "y = bscall(S0,K,T,r,sig) * np.zeros([M,1])"
   ]
  },
  {
   "cell_type": "code",
   "execution_count": 22,
   "metadata": {
    "id": "CyPiJWnkrxxL"
   },
   "outputs": [],
   "source": [
    "model.compile(loss='mse', optimizer='adam')"
   ]
  },
  {
   "cell_type": "code",
   "execution_count": 12,
   "metadata": {
    "colab": {
     "base_uri": "https://localhost:8080/"
    },
    "id": "9uLCQOjFr4zD",
    "outputId": "721a86f0-a0c6-41a2-d054-103909daa6b7"
   },
   "outputs": [
    {
     "name": "stdout",
     "output_type": "stream",
     "text": [
      "Epoch 1/100\n"
     ]
    },
    {
     "name": "stderr",
     "output_type": "stream",
     "text": [
      "2022-09-29 13:54:12.658923: W tensorflow/core/platform/profile_utils/cpu_utils.cc:128] Failed to get CPU frequency: 0 Hz\n",
      "2022-09-29 13:54:13.555177: I tensorflow/core/grappler/optimizers/custom_graph_optimizer_registry.cc:114] Plugin optimizer for device_type GPU is enabled.\n"
     ]
    },
    {
     "name": "stdout",
     "output_type": "stream",
     "text": [
      "32/32 [==============================] - 4s 44ms/step - loss: 53.3429\n",
      "Epoch 2/100\n",
      "32/32 [==============================] - 1s 31ms/step - loss: 11.9249\n",
      "Epoch 3/100\n",
      "32/32 [==============================] - 1s 30ms/step - loss: 3.7805\n",
      "Epoch 4/100\n",
      "32/32 [==============================] - 1s 30ms/step - loss: 2.9058\n",
      "Epoch 5/100\n",
      "32/32 [==============================] - 1s 31ms/step - loss: 2.7711\n",
      "Epoch 6/100\n",
      "32/32 [==============================] - 1s 31ms/step - loss: 2.7960\n",
      "Epoch 7/100\n",
      "32/32 [==============================] - 1s 30ms/step - loss: 2.7595\n",
      "Epoch 8/100\n",
      "32/32 [==============================] - 1s 31ms/step - loss: 2.7571\n",
      "Epoch 9/100\n",
      "32/32 [==============================] - 1s 30ms/step - loss: 2.7627\n",
      "Epoch 10/100\n",
      "32/32 [==============================] - 1s 31ms/step - loss: 2.7798\n",
      "Epoch 11/100\n",
      "32/32 [==============================] - 1s 30ms/step - loss: 2.7362\n",
      "Epoch 12/100\n",
      "32/32 [==============================] - 1s 30ms/step - loss: 2.7375\n",
      "Epoch 13/100\n",
      "32/32 [==============================] - 1s 31ms/step - loss: 2.7871\n",
      "Epoch 14/100\n",
      "32/32 [==============================] - 1s 30ms/step - loss: 2.7640\n",
      "Epoch 15/100\n",
      "32/32 [==============================] - 1s 31ms/step - loss: 2.7343\n",
      "Epoch 16/100\n",
      "32/32 [==============================] - 1s 32ms/step - loss: 2.7624\n",
      "Epoch 17/100\n",
      "32/32 [==============================] - 1s 31ms/step - loss: 2.8097\n",
      "Epoch 18/100\n",
      "32/32 [==============================] - 1s 32ms/step - loss: 2.7135\n",
      "Epoch 19/100\n",
      "32/32 [==============================] - 1s 30ms/step - loss: 2.7535\n",
      "Epoch 20/100\n",
      "32/32 [==============================] - 1s 30ms/step - loss: 2.7331\n",
      "Epoch 21/100\n",
      "32/32 [==============================] - 1s 30ms/step - loss: 2.7177\n",
      "Epoch 22/100\n",
      "32/32 [==============================] - 1s 30ms/step - loss: 2.7179\n",
      "Epoch 23/100\n",
      "32/32 [==============================] - 1s 31ms/step - loss: 2.7324\n",
      "Epoch 24/100\n",
      "32/32 [==============================] - 1s 31ms/step - loss: 2.7253\n",
      "Epoch 25/100\n",
      "32/32 [==============================] - 1s 30ms/step - loss: 2.7382\n",
      "Epoch 26/100\n",
      "32/32 [==============================] - 1s 30ms/step - loss: 2.7171\n",
      "Epoch 27/100\n",
      "32/32 [==============================] - 1s 30ms/step - loss: 2.7153\n",
      "Epoch 28/100\n",
      "32/32 [==============================] - 1s 30ms/step - loss: 2.7296\n",
      "Epoch 29/100\n",
      "32/32 [==============================] - 1s 31ms/step - loss: 2.7255\n",
      "Epoch 30/100\n",
      "32/32 [==============================] - 1s 31ms/step - loss: 2.7415\n",
      "Epoch 31/100\n",
      "32/32 [==============================] - 1s 30ms/step - loss: 2.7771\n",
      "Epoch 32/100\n",
      "32/32 [==============================] - 1s 30ms/step - loss: 2.7559\n",
      "Epoch 33/100\n",
      "32/32 [==============================] - 1s 30ms/step - loss: 2.7185\n",
      "Epoch 34/100\n",
      "32/32 [==============================] - 1s 30ms/step - loss: 2.7223\n",
      "Epoch 35/100\n",
      "32/32 [==============================] - 1s 30ms/step - loss: 2.8267\n",
      "Epoch 36/100\n",
      "32/32 [==============================] - 1s 30ms/step - loss: 2.7429\n",
      "Epoch 37/100\n",
      "32/32 [==============================] - 1s 30ms/step - loss: 2.7560\n",
      "Epoch 38/100\n",
      "32/32 [==============================] - 1s 30ms/step - loss: 2.7224\n",
      "Epoch 39/100\n",
      "32/32 [==============================] - 1s 30ms/step - loss: 2.7453\n",
      "Epoch 40/100\n",
      "32/32 [==============================] - 1s 30ms/step - loss: 2.7525\n",
      "Epoch 41/100\n",
      "32/32 [==============================] - 1s 30ms/step - loss: 2.7904\n",
      "Epoch 42/100\n",
      "32/32 [==============================] - 1s 30ms/step - loss: 2.7305\n",
      "Epoch 43/100\n",
      "32/32 [==============================] - 1s 30ms/step - loss: 2.7770\n",
      "Epoch 44/100\n",
      "32/32 [==============================] - 1s 30ms/step - loss: 2.7902\n",
      "Epoch 45/100\n",
      "32/32 [==============================] - 1s 30ms/step - loss: 2.7373\n",
      "Epoch 46/100\n",
      "32/32 [==============================] - 1s 30ms/step - loss: 2.8276\n",
      "Epoch 47/100\n",
      "32/32 [==============================] - 1s 31ms/step - loss: 2.7403\n",
      "Epoch 48/100\n",
      "32/32 [==============================] - 1s 30ms/step - loss: 2.7823\n",
      "Epoch 49/100\n",
      "32/32 [==============================] - 1s 30ms/step - loss: 2.7767\n",
      "Epoch 50/100\n",
      "32/32 [==============================] - 1s 31ms/step - loss: 2.7286\n",
      "Epoch 51/100\n",
      "32/32 [==============================] - 1s 31ms/step - loss: 2.7808\n",
      "Epoch 52/100\n",
      "32/32 [==============================] - 1s 31ms/step - loss: 2.8076\n",
      "Epoch 53/100\n",
      "32/32 [==============================] - 1s 30ms/step - loss: 2.7660\n",
      "Epoch 54/100\n",
      "32/32 [==============================] - 1s 30ms/step - loss: 2.7450\n",
      "Epoch 55/100\n",
      "32/32 [==============================] - 1s 30ms/step - loss: 2.7884\n",
      "Epoch 56/100\n",
      "32/32 [==============================] - 1s 30ms/step - loss: 2.7369\n",
      "Epoch 57/100\n",
      "32/32 [==============================] - 1s 30ms/step - loss: 2.7280\n",
      "Epoch 58/100\n",
      "32/32 [==============================] - 1s 30ms/step - loss: 2.8053\n",
      "Epoch 59/100\n",
      "32/32 [==============================] - 6s 192ms/step - loss: 2.8074\n",
      "Epoch 60/100\n",
      "32/32 [==============================] - 1s 30ms/step - loss: 2.8104\n",
      "Epoch 61/100\n",
      "32/32 [==============================] - 1s 30ms/step - loss: 2.7739\n",
      "Epoch 62/100\n",
      "32/32 [==============================] - 1s 30ms/step - loss: 2.8225\n",
      "Epoch 63/100\n",
      "32/32 [==============================] - 1s 30ms/step - loss: 2.7964\n",
      "Epoch 64/100\n",
      "32/32 [==============================] - 1s 30ms/step - loss: 2.7699\n",
      "Epoch 65/100\n",
      "32/32 [==============================] - 1s 30ms/step - loss: 2.7698\n",
      "Epoch 66/100\n",
      "32/32 [==============================] - 1s 30ms/step - loss: 2.7880\n",
      "Epoch 67/100\n",
      "32/32 [==============================] - 1s 31ms/step - loss: 2.7666\n",
      "Epoch 68/100\n",
      "32/32 [==============================] - 1s 30ms/step - loss: 2.7293\n",
      "Epoch 69/100\n",
      "32/32 [==============================] - 1s 30ms/step - loss: 2.7772\n",
      "Epoch 70/100\n",
      "32/32 [==============================] - 1s 30ms/step - loss: 2.7762\n",
      "Epoch 71/100\n",
      "32/32 [==============================] - 1s 30ms/step - loss: 2.7805\n",
      "Epoch 72/100\n",
      "32/32 [==============================] - 1s 30ms/step - loss: 2.7898\n",
      "Epoch 73/100\n",
      "32/32 [==============================] - 1s 30ms/step - loss: 2.7409\n",
      "Epoch 74/100\n",
      "32/32 [==============================] - 1s 30ms/step - loss: 2.7560\n",
      "Epoch 75/100\n",
      "32/32 [==============================] - 1s 30ms/step - loss: 2.7856\n",
      "Epoch 76/100\n",
      "32/32 [==============================] - 1s 30ms/step - loss: 2.7566\n",
      "Epoch 77/100\n",
      "32/32 [==============================] - 1s 30ms/step - loss: 2.7017\n",
      "Epoch 78/100\n",
      "32/32 [==============================] - 1s 30ms/step - loss: 2.7120\n",
      "Epoch 79/100\n",
      "32/32 [==============================] - 1s 30ms/step - loss: 2.7531\n",
      "Epoch 80/100\n",
      "32/32 [==============================] - 1s 30ms/step - loss: 2.8081\n",
      "Epoch 81/100\n",
      "32/32 [==============================] - 1s 30ms/step - loss: 2.7672\n",
      "Epoch 82/100\n",
      "32/32 [==============================] - 1s 30ms/step - loss: 2.7786\n",
      "Epoch 83/100\n",
      "32/32 [==============================] - 1s 30ms/step - loss: 2.7919\n",
      "Epoch 84/100\n",
      "32/32 [==============================] - 1s 30ms/step - loss: 2.7334\n",
      "Epoch 85/100\n",
      "32/32 [==============================] - 1s 30ms/step - loss: 2.7766\n",
      "Epoch 86/100\n",
      "32/32 [==============================] - 1s 30ms/step - loss: 2.7859\n",
      "Epoch 87/100\n",
      "32/32 [==============================] - 1s 30ms/step - loss: 2.8245\n",
      "Epoch 88/100\n",
      "32/32 [==============================] - 1s 31ms/step - loss: 2.7264\n",
      "Epoch 89/100\n",
      "32/32 [==============================] - 1s 30ms/step - loss: 2.7210\n",
      "Epoch 90/100\n",
      "32/32 [==============================] - 1s 30ms/step - loss: 2.7676\n",
      "Epoch 91/100\n",
      "32/32 [==============================] - 1s 30ms/step - loss: 2.7632\n",
      "Epoch 92/100\n",
      "32/32 [==============================] - 1s 30ms/step - loss: 2.7090\n",
      "Epoch 93/100\n",
      "32/32 [==============================] - 1s 30ms/step - loss: 2.8349\n",
      "Epoch 94/100\n",
      "32/32 [==============================] - 1s 30ms/step - loss: 2.7655\n",
      "Epoch 95/100\n",
      "32/32 [==============================] - 1s 30ms/step - loss: 2.7555\n",
      "Epoch 96/100\n",
      "32/32 [==============================] - 1s 30ms/step - loss: 2.7792\n",
      "Epoch 97/100\n",
      "32/32 [==============================] - 1s 30ms/step - loss: 2.7341\n",
      "Epoch 98/100\n",
      "32/32 [==============================] - 1s 30ms/step - loss: 2.8419\n",
      "Epoch 99/100\n",
      "32/32 [==============================] - 1s 30ms/step - loss: 2.7596\n",
      "Epoch 100/100\n",
      "32/32 [==============================] - 1s 30ms/step - loss: 2.7660\n"
     ]
    },
    {
     "data": {
      "text/plain": [
       "<keras.callbacks.History at 0x2883477f0>"
      ]
     },
     "execution_count": 12,
     "metadata": {},
     "output_type": "execute_result"
    }
   ],
   "source": [
    "model.fit(x,y, epochs=100)"
   ]
  },
  {
   "cell_type": "code",
   "execution_count": 13,
   "metadata": {
    "colab": {
     "base_uri": "https://localhost:8080/",
     "height": 358
    },
    "id": "zb9CI8-Aslqp",
    "outputId": "a27b213f-a5a3-4838-8c0d-1e980f87d6f4"
   },
   "outputs": [
    {
     "name": "stderr",
     "output_type": "stream",
     "text": [
      "2022-09-29 13:56:57.727004: I tensorflow/core/grappler/optimizers/custom_graph_optimizer_registry.cc:114] Plugin optimizer for device_type GPU is enabled.\n"
     ]
    },
    {
     "name": "stdout",
     "output_type": "stream",
     "text": [
      "32/32 [==============================] - 1s 19ms/step\n"
     ]
    },
    {
     "data": {
      "text/plain": [
       "(array([ 80., 208., 228., 175., 136.,  78.,  59.,  21.,   9.,   6.]),\n",
       " array([-2.853526  , -1.9695169 , -1.0855076 , -0.20149831,  0.682511  ,\n",
       "         1.5665202 ,  2.4505296 ,  3.3345387 ,  4.218548  ,  5.102557  ,\n",
       "         5.9865665 ], dtype=float32),\n",
       " <BarContainer object of 10 artists>)"
      ]
     },
     "execution_count": 13,
     "metadata": {},
     "output_type": "execute_result"
    },
    {
     "data": {
      "image/png": "[encoded data removed]",
      "text/plain": [
       "<Figure size 640x480 with 1 Axes>"
      ]
     },
     "metadata": {},
     "output_type": "display_data"
    }
   ],
   "source": [
    "plt.hist(model.predict(x))"
   ]
  },
  {
   "cell_type": "code",
   "execution_count": null,
   "metadata": {},
   "outputs": [],
   "source": []
  }
 ],
 "metadata": {
  "accelerator": "GPU",
  "colab": {
   "provenance": []
  },
  "kernelspec": {
   "display_name": "Python 3 (ipykernel)",
   "language": "python",
   "name": "python3"
  },
  "language_info": {
   "codemirror_mode": {
    "name": "ipython",
    "version": 3
   },
   "file_extension": ".py",
   "mimetype": "text/x-python",
   "name": "python",
   "nbconvert_exporter": "python",
   "pygments_lexer": "ipython3",
   "version": "3.10.6"
  }
 },
 "nbformat": 4,
 "nbformat_minor": 1
}
