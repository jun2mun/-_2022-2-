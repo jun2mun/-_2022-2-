{
  "nbformat": 4,
  "nbformat_minor": 0,
  "metadata": {
    "colab": {
      "provenance": [],
      "collapsed_sections": []
    },
    "kernelspec": {
      "name": "python3",
      "display_name": "Python 3"
    },
    "language_info": {
      "name": "python"
    }
  },
  "cells": [
    {
      "cell_type": "code",
      "execution_count": 26,
      "metadata": {
        "colab": {
          "base_uri": "https://localhost:8080/"
        },
        "id": "kzFFlHp6U3gd",
        "outputId": "776e5d5d-3a03-4480-91ec-45455819e073"
      },
      "outputs": [
        {
          "output_type": "stream",
          "name": "stdout",
          "text": [
            "\n",
            "Finish installing and importing all necessary libraries!\n"
          ]
        }
      ],
      "source": [
        "#@title <font color='Blue'>**Overheads**</font>\n",
        "\n",
        "# Author: Yu-Man Tam\n",
        "# Last updated: 5/23/2020\n",
        "\n",
        "# Reference: Deep Hedging (2019, Quantitative Finance) by Buehler et al.\n",
        "# https://www.tandfonline.com/doi/abs/10.1080/14697688.2019.1571683\n",
        "\n",
        "!apt-get update --fix-missing\n",
        "#!apt-get -qq install -y libquantlib0-dev\n",
        "!pip -q install QuantLib tqdm\n",
        "\n",
        "# Import custom modules from github\n",
        "!rm -rf deep-hedging\n",
        "!git clone https://github.com/YuMan-Tam/deep-hedging\n",
        "\n",
        "import sys, os\n",
        "sys.path.insert(0, os.getcwd() + \"/deep-hedging\")\n",
        "\n",
        "from IPython.display import clear_output\n",
        "\n",
        "import numpy as np\n",
        "import QuantLib as ql\n",
        "import tensorflow as tf\n",
        "from scipy.stats import norm\n",
        "\n",
        "import tensorflow as tf\n",
        "from tensorflow.keras.callbacks import EarlyStopping, ModelCheckpoint, \\\n",
        "                                            ReduceLROnPlateau\n",
        "from tensorflow.compat.v1.keras.optimizers import Adam\n",
        "from tensorflow.keras.models import Model\n",
        "\n",
        "import matplotlib.pyplot as plt\n",
        "\n",
        "from stochastic_processes import BlackScholesProcess\n",
        "from instruments import EuropeanCall\n",
        "from deep_hedging import Deep_Hedging_Model, Delta_SubModel\n",
        "from loss_metrics import Entropy\n",
        "from utilities import train_test_split\n",
        "\n",
        "!pip install yfinance\n",
        "!pip install pandas_datareader\n",
        "import yfinance as yf\n",
        "from pandas_datareader import data as pdr\n",
        "yf.pdr_override() \n",
        "\n",
        "%load_ext autoreload\n",
        "\n",
        "clear_output()\n",
        "print(\"\\nFinish installing and importing all necessary libraries!\")"
      ]
    },
    {
      "cell_type": "code",
      "source": [
        "#@title <font color='Blue'>**User Inputs**</font>\n",
        "\n",
        "# Geometric Brownian Motion.\n",
        "N = 30 # Number of time steps (in days)\n",
        "\n",
        "S0 = 100.0 # Stock price at time = 0\n",
        "sigma = 0.2 # Implied volatility\n",
        "risk_free = 0.0 # Risk-free rate\n",
        "dividend = 0.0 # Continuous dividend yield\n",
        "\n",
        "Ktrain = 1240 # Size of training sample.\n",
        "Ktest_ratio = 0.2 # Fraction of training sample as testing sample.\n",
        "\n",
        "# European call option (short).\n",
        "strike = S0\n",
        "payoff_func = lambda x: -np.maximum(x - strike, 0.0)\n",
        "calculation_date = ql.Date.todaysDate()\n",
        "maturity_date = ql.Date.todaysDate() + N\n",
        "\n",
        "# Day convention.\n",
        "day_count = ql.Actual365Fixed() # Actual/Actual (ISDA)\n",
        "\n",
        "# Proportional transaction cost.\n",
        "epsilon = 0.0\n",
        "\n",
        "# Information set (in string)\n",
        "# Choose from: S, log_S, normalized_log_S (by S0)\n",
        "information_set = \"normalized_log_S\"\n",
        "\n",
        "# Loss function\n",
        "# loss_type = \"CVaR\" (Expected Shortfall) -> loss_param = alpha \n",
        "# loss_type = \"Entropy\" -> loss_param = lambda \n",
        "\n",
        "loss_type = \"Entropy\"\n",
        "loss_param = 1.0\n",
        "\n",
        "# Neural network (NN) structure\n",
        "m = 15 # Number of neurons in each hidden layer.\n",
        "d = 1 # Number of hidden layers (Note including input nor output layer)         \n",
        "\n",
        "# Neural network training parameters\n",
        "lr = 1e-2 # Learning rate\n",
        "batch_size=256 # Batch size\n",
        "epochs=50 # Number of epochs\n",
        "\n",
        "# Other parameters\n",
        "use_batch_norm = False\n",
        "kernel_initializer = \"he_uniform\"\n",
        "\n",
        "activation_dense = \"leaky_relu\"\n",
        "activation_output = \"sigmoid\"\n",
        "final_period_cost = False\n",
        "\n",
        "delta_constraint = (0.0, 1.0)\n",
        "share_stretegy_across_time = False\n",
        "cost_structure = \"proportional\"\n",
        "\n",
        "# Other control flags for development purpose.\n",
        "mc_simulator = \"QuantLib\" # \"QuantLib\" or \"Numpy\"\n",
        "\n",
        "# Total obs = Training + Testing\n",
        "nobs = int(Ktrain*(1+Ktest_ratio)) \n",
        "\t\t\n",
        "# Length of one time-step (as fraction of a year).\n",
        "dt = day_count.yearFraction(calculation_date,calculation_date + 1) \n",
        "maturity = N*dt # Maturities (in the unit of a year)\n"
      ],
      "metadata": {
        "id": "dvK9nvLdVVl6"
      },
      "execution_count": 94,
      "outputs": []
    },
    {
      "cell_type": "code",
      "source": [
        "#@title <font color='Blue'>**Prepare real data to be fed into the deep hedging algorithm.**</font>\n",
        "\n",
        "name = '005930.KS' #삼성전자\n",
        "ticker = yf.Ticker(name)\n",
        "df = ticker.history(interval='1d', period='6y', auto_adjust=False)\n",
        "\n",
        "S = df[\"Close\"][:1240].to_numpy()\n",
        "S = np.reshape(S, (-1,31))\n",
        "S0 = S[0]\n",
        "\n",
        "payoff_T = payoff_func(S[:,-1]) # Payoff of the call option\n",
        "\n",
        "trade_set =  np.stack((S),axis=1) # Trading set\n",
        "\n",
        "if information_set is \"S\":\n",
        "  I =  np.stack((S),axis=1) # Information set\n",
        "elif information_set is \"log_S\":\n",
        "  I =  np.stack((np.log(S)),axis=1)\n",
        "elif information_set is \"normalized_log_S\":\n",
        "  I =  np.stack((np.log(S/S0)),axis=1)\n",
        "\n",
        "# Structure of xtrain:\n",
        "#   1) Trade set: [S]\n",
        "#   2) Information set: [S] \n",
        "#   3) payoff (dim = 1)\n",
        "x_all = []\n",
        "for i in range(N+1):\n",
        "  x_all += [trade_set[i,:,None]]\n",
        "  if i != N:\n",
        "    x_all += [I[i,:,None]]\n",
        "x_all += [payoff_T[:,None]]\n",
        "\n",
        "# Split the entire sample into a training sample and a testing sample.\n",
        "test_size = int(Ktrain*Ktest_ratio)\n",
        "[xtrain, xtest] = train_test_split(x_all, test_size=Ktest_ratio)\n",
        "[S_train, S_test] = train_test_split([S], test_size=Ktest_ratio)\n",
        "\n",
        "[option_payoff_train, option_payoff_test] = \\\n",
        "    train_test_split([x_all[-1]], test_size=Ktest_ratio)\n",
        "\n",
        "clear_output()\n",
        "print(\"Finish preparing data!\")"
      ],
      "metadata": {
        "colab": {
          "base_uri": "https://localhost:8080/"
        },
        "id": "ByH3_lgkV7Zk",
        "outputId": "573d70d7-ba51-4397-ec42-26604e0eaa0c"
      },
      "execution_count": 108,
      "outputs": [
        {
          "output_type": "stream",
          "name": "stdout",
          "text": [
            "Finish preparing data!\n"
          ]
        }
      ]
    },
    {
      "cell_type": "code",
      "source": [
        "#@title <font color='Blue'>**Run the Deep Hedging Algorithm (Simple Network)!**</font>\n",
        "%autoreload 2\n",
        "\n",
        "optimizer = Adam(learning_rate=lr)\n",
        "\n",
        "# Setup and compile the model\n",
        "model_simple = Deep_Hedging_Model(N=N, d=d+2, m=m, risk_free=risk_free, \\\n",
        "          dt = dt, strategy_type=\"simple\", epsilon = epsilon, \\\n",
        "          use_batch_norm = use_batch_norm, kernel_initializer = kernel_initializer, \\\n",
        "          activation_dense = activation_dense, activation_output = activation_output, \\\n",
        "          final_period_cost = final_period_cost, delta_constraint = delta_constraint, \\\n",
        "          share_stretegy_across_time = share_stretegy_across_time, \\\n",
        "          cost_structure = cost_structure)\n",
        "loss = Entropy(model_simple.output,None,loss_param)\n",
        "model_simple.add_loss(loss)\n",
        "\n",
        "model_simple.compile(optimizer=optimizer)\n",
        "\n",
        "early_stopping = EarlyStopping(monitor=\"loss\", \\\n",
        "          patience=10, min_delta=1e-4, restore_best_weights=True)\n",
        "reduce_lr = ReduceLROnPlateau(monitor=\"loss\", \\\n",
        "          factor=0.5, patience=2, min_delta=1e-3, verbose=0)\n",
        "\n",
        "callbacks = [early_stopping, reduce_lr]\n",
        "\n",
        "# Fit the model.\n",
        "model_simple.fit(x=xtrain, batch_size=batch_size, epochs=epochs)\n",
        "\n",
        "clear_output()\n",
        "\n",
        "print(\"Finished running deep hedging algorithm! (Simple Network)\")"
      ],
      "metadata": {
        "colab": {
          "base_uri": "https://localhost:8080/"
        },
        "id": "UAu_XeoBfvAd",
        "outputId": "e9afb62b-ff0d-4451-8f3f-e8cda57807f9"
      },
      "execution_count": 99,
      "outputs": [
        {
          "output_type": "stream",
          "name": "stdout",
          "text": [
            "Finished running deep hedging algorithm! (Simple Network)\n"
          ]
        }
      ]
    },
    {
      "cell_type": "code",
      "source": [
        "#@title <font color='Blue'>**Run the Deep Hedging Algorithm (Recurrent Network)!**</font>\n",
        "optimizer = Adam(learning_rate=lr)\n",
        "\n",
        "# Setup and compile the model\n",
        "model_recurrent = Deep_Hedging_Model(N=N, d=d+2, m=m, risk_free=risk_free, \\\n",
        "          dt = dt, strategy_type=\"recurrent\", epsilon = epsilon, \\\n",
        "          use_batch_norm = use_batch_norm, kernel_initializer = kernel_initializer, \\\n",
        "          activation_dense = activation_dense, activation_output = activation_output, \\\n",
        "          final_period_cost = final_period_cost)\n",
        "\n",
        "loss = Entropy(model_recurrent.output,None,loss_param)\n",
        "model_recurrent.add_loss(loss)\n",
        "\n",
        "model_recurrent.compile(optimizer=optimizer)\n",
        "\n",
        "early_stopping = EarlyStopping(monitor=\"loss\", \\\n",
        "          patience=10, min_delta=1e-4, restore_best_weights=True)\n",
        "reduce_lr = ReduceLROnPlateau(monitor=\"loss\", \\\n",
        "          factor=0.5, patience=2, min_delta=1e-3, verbose=0)\n",
        "\n",
        "callbacks = [early_stopping, reduce_lr]\n",
        "\n",
        "# Fit the model.\n",
        "model_recurrent.fit(x=xtrain, batch_size=batch_size, epochs=epochs)\n",
        "\n",
        "print(\"Finished running deep hedging algorithm! (Simple Network)\")"
      ],
      "metadata": {
        "colab": {
          "base_uri": "https://localhost:8080/"
        },
        "id": "btasr0EWVil5",
        "outputId": "215b81a6-60c4-4a72-bd74-fffce7af1d50"
      },
      "execution_count": 100,
      "outputs": [
        {
          "output_type": "stream",
          "name": "stdout",
          "text": [
            "Epoch 1/50\n",
            "1/1 [==============================] - 13s 13s/step - loss: inf\n",
            "Epoch 2/50\n",
            "1/1 [==============================] - 0s 24ms/step - loss: nan\n",
            "Epoch 3/50\n",
            "1/1 [==============================] - 0s 29ms/step - loss: nan\n",
            "Epoch 4/50\n",
            "1/1 [==============================] - 0s 23ms/step - loss: nan\n",
            "Epoch 5/50\n",
            "1/1 [==============================] - 0s 23ms/step - loss: nan\n",
            "Epoch 6/50\n",
            "1/1 [==============================] - 0s 24ms/step - loss: nan\n",
            "Epoch 7/50\n",
            "1/1 [==============================] - 0s 23ms/step - loss: nan\n",
            "Epoch 8/50\n",
            "1/1 [==============================] - 0s 21ms/step - loss: nan\n",
            "Epoch 9/50\n",
            "1/1 [==============================] - 0s 29ms/step - loss: nan\n",
            "Epoch 10/50\n",
            "1/1 [==============================] - 0s 24ms/step - loss: nan\n",
            "Epoch 11/50\n",
            "1/1 [==============================] - 0s 23ms/step - loss: nan\n",
            "Epoch 12/50\n",
            "1/1 [==============================] - 0s 28ms/step - loss: nan\n",
            "Epoch 13/50\n",
            "1/1 [==============================] - 0s 23ms/step - loss: nan\n",
            "Epoch 14/50\n",
            "1/1 [==============================] - 0s 21ms/step - loss: nan\n",
            "Epoch 15/50\n",
            "1/1 [==============================] - 0s 22ms/step - loss: nan\n",
            "Epoch 16/50\n",
            "1/1 [==============================] - 0s 21ms/step - loss: nan\n",
            "Epoch 17/50\n",
            "1/1 [==============================] - 0s 23ms/step - loss: nan\n",
            "Epoch 18/50\n",
            "1/1 [==============================] - 0s 22ms/step - loss: nan\n",
            "Epoch 19/50\n",
            "1/1 [==============================] - 0s 23ms/step - loss: nan\n",
            "Epoch 20/50\n",
            "1/1 [==============================] - 0s 24ms/step - loss: nan\n",
            "Epoch 21/50\n",
            "1/1 [==============================] - 0s 26ms/step - loss: nan\n",
            "Epoch 22/50\n",
            "1/1 [==============================] - 0s 22ms/step - loss: nan\n",
            "Epoch 23/50\n",
            "1/1 [==============================] - 0s 26ms/step - loss: nan\n",
            "Epoch 24/50\n",
            "1/1 [==============================] - 0s 29ms/step - loss: nan\n",
            "Epoch 25/50\n",
            "1/1 [==============================] - 0s 33ms/step - loss: nan\n",
            "Epoch 26/50\n",
            "1/1 [==============================] - 0s 24ms/step - loss: nan\n",
            "Epoch 27/50\n",
            "1/1 [==============================] - 0s 27ms/step - loss: nan\n",
            "Epoch 28/50\n",
            "1/1 [==============================] - 0s 28ms/step - loss: nan\n",
            "Epoch 29/50\n",
            "1/1 [==============================] - 0s 27ms/step - loss: nan\n",
            "Epoch 30/50\n",
            "1/1 [==============================] - 0s 33ms/step - loss: nan\n",
            "Epoch 31/50\n",
            "1/1 [==============================] - 0s 26ms/step - loss: nan\n",
            "Epoch 32/50\n",
            "1/1 [==============================] - 0s 28ms/step - loss: nan\n",
            "Epoch 33/50\n",
            "1/1 [==============================] - 0s 31ms/step - loss: nan\n",
            "Epoch 34/50\n",
            "1/1 [==============================] - 0s 30ms/step - loss: nan\n",
            "Epoch 35/50\n",
            "1/1 [==============================] - 0s 26ms/step - loss: nan\n",
            "Epoch 36/50\n",
            "1/1 [==============================] - 0s 25ms/step - loss: nan\n",
            "Epoch 37/50\n",
            "1/1 [==============================] - 0s 27ms/step - loss: nan\n",
            "Epoch 38/50\n",
            "1/1 [==============================] - 0s 27ms/step - loss: nan\n",
            "Epoch 39/50\n",
            "1/1 [==============================] - 0s 25ms/step - loss: nan\n",
            "Epoch 40/50\n",
            "1/1 [==============================] - 0s 25ms/step - loss: nan\n",
            "Epoch 41/50\n",
            "1/1 [==============================] - 0s 26ms/step - loss: nan\n",
            "Epoch 42/50\n",
            "1/1 [==============================] - 0s 26ms/step - loss: nan\n",
            "Epoch 43/50\n",
            "1/1 [==============================] - 0s 27ms/step - loss: nan\n",
            "Epoch 44/50\n",
            "1/1 [==============================] - 0s 26ms/step - loss: nan\n",
            "Epoch 45/50\n",
            "1/1 [==============================] - 0s 26ms/step - loss: nan\n",
            "Epoch 46/50\n",
            "1/1 [==============================] - 0s 26ms/step - loss: nan\n",
            "Epoch 47/50\n",
            "1/1 [==============================] - 0s 41ms/step - loss: nan\n",
            "Epoch 48/50\n",
            "1/1 [==============================] - 0s 37ms/step - loss: nan\n",
            "Epoch 49/50\n",
            "1/1 [==============================] - 0s 27ms/step - loss: nan\n",
            "Epoch 50/50\n",
            "1/1 [==============================] - 0s 27ms/step - loss: nan\n",
            "Finished running deep hedging algorithm! (Simple Network)\n"
          ]
        }
      ]
    },
    {
      "cell_type": "code",
      "source": [
        "#@title <font color='Blue'>**Results: Option Prices**</font>\n",
        "call = EuropeanCall()\n",
        "\n",
        "price_BS = call.get_BS_price(S = S_test[0], sigma = sigma, \\\n",
        "              risk_free = risk_free, dividend = dividend, K = strike, \\\n",
        "              exercise_date = maturity_date, \\\n",
        "              calculation_date = calculation_date, \\\n",
        "              day_count = day_count, dt = dt)\n",
        "delta_BS = call.get_BS_delta(S = S_test[0], sigma = sigma, \\\n",
        "              risk_free = risk_free, dividend = dividend, K = strike, \\\n",
        "              exercise_date = maturity_date, \\\n",
        "              calculation_date = calculation_date, \n",
        "              day_count = day_count, dt = dt)\n",
        "\n",
        "PnL_BS =  call.get_BS_PnL(S= S_test[0], \\\n",
        "              payoff= payoff_func(S_test[0][:,-1]), delta=delta_BS, \\\n",
        "              dt= dt, risk_free = risk_free, \\\n",
        "              final_period_cost=final_period_cost, epsilon=epsilon, \\\n",
        "              cost_structure = cost_structure )\n",
        "\n",
        "risk_neutral_price = \\\n",
        "    -option_payoff_test[0].mean()*np.exp(-risk_free*(N*dt))\n",
        "nn_simple_price = model_simple.evaluate(xtest, batch_size=test_size, verbose=0)\n",
        "\n",
        "print(\"The Black-Scholes model price is %2.3f.\" % price_BS[0][0])\n",
        "print(\"The Risk Neutral price is %2.3f.\" % risk_neutral_price)\n",
        "print(\"The Deep Hedging (with simple network) price is %2.3f.\" % nn_simple_price)\n",
        "\n",
        "try:\n",
        "  nn_recurrent_price = model_recurrent.evaluate(xtest, batch_size=test_size, verbose=0)\n",
        "  print(\"The Deep Hedging (with recurrent network) price is %2.3f.\" % nn_recurrent_price)\n",
        "except:\n",
        "  print(\"No Recurrent model.\")\n"
      ],
      "metadata": {
        "colab": {
          "base_uri": "https://localhost:8080/"
        },
        "id": "0GDVsrCkfV_H",
        "outputId": "ccb080cd-3434-481f-a61b-ec09bfd21473"
      },
      "execution_count": 109,
      "outputs": [
        {
          "output_type": "stream",
          "name": "stdout",
          "text": [
            "The Black-Scholes model price is 59900.000.\n",
            "The Risk Neutral price is 78350.000.\n",
            "The Deep Hedging (with simple network) price is nan.\n",
            "The Deep Hedging (with recurrent network) price is nan.\n"
          ]
        }
      ]
    },
    {
      "cell_type": "code",
      "source": [
        "#@title <font color='Blue'>**Results: Black-Scholes PnL vs Deep Hedging PnL**</font>\n",
        "bar1 = PnL_BS + price_BS[0][0]\n",
        "bar2 = model_simple(xtest).numpy().squeeze() + price_BS[0][0]\n",
        "\n",
        "# Plot Black-Scholes PnL and Deep Hedging PnL (with BS_price charged on both).\n",
        "fig_PnL = plt.figure(dpi= 125, facecolor='w')\n",
        "fig_PnL.suptitle(\"Black-Scholes PnL vs Deep Hedging PnL \\n\", \\\n",
        "      fontweight=\"bold\")\n",
        "ax = fig_PnL.add_subplot()\n",
        "ax.set_title(\"Simple Network Structure with epsilon = \" + str(epsilon), \\\n",
        "      fontsize=8)\n",
        "ax.set_xlabel(\"PnL\")\n",
        "ax.set_ylabel(\"Frequency\")\n",
        "ax.hist((bar1,bar2), bins=30, \\\n",
        "          label=[\"Black-Scholes PnL\", \"Deep Hedging PnL\"])\n",
        "ax.legend()\n",
        "plt.show()"
      ],
      "metadata": {
        "id": "qt8XyvU8VnK3",
        "colab": {
          "base_uri": "https://localhost:8080/",
          "height": 595
        },
        "outputId": "4bfa0da3-c1c4-44ae-e105-fa1c3a810602"
      },
      "execution_count": 110,
      "outputs": [
        {
          "output_type": "stream",
          "name": "stderr",
          "text": [
            "/usr/local/lib/python3.7/dist-packages/matplotlib/axes/_axes.py:6630: RuntimeWarning: All-NaN slice encountered\n",
            "  xmin = min(xmin, np.nanmin(xi))\n",
            "/usr/local/lib/python3.7/dist-packages/matplotlib/axes/_axes.py:6631: RuntimeWarning: All-NaN slice encountered\n",
            "  xmax = max(xmax, np.nanmax(xi))\n"
          ]
        },
        {
          "output_type": "display_data",
          "data": {
            "text/plain": [
              "<Figure size 750x500 with 1 Axes>"
            ],
            "image/png": "[encoded data removed]"
          },
          "metadata": {}
        }
      ]
    },
    {
      "cell_type": "code",
      "source": [
        "#@title <font color='Blue'>**Results: Black-Scholes Delta vs Deep Hedging Delta.**</font>\n",
        "for days_from_today in (1,15,29):\n",
        "  tau = (N-days_from_today)*dt\n",
        "    \n",
        "  min_S = S_test[0][:,days_from_today].min()\n",
        "  max_S = S_test[0][:,days_from_today].max()\n",
        "  S_range = np.linspace(min_S,max_S,101)\n",
        "\n",
        "  # Attention: Need to transform it to be consistent with the information set.\n",
        "  if information_set is \"S\":\n",
        "    I_range =  S_range # Information set\n",
        "  elif information_set is \"log_S\":\n",
        "    I_range =  np.log(S_range)\n",
        "  elif information_set is \"normalized_log_S\":\n",
        "    I_range =  np.log(S_range/S0)        \n",
        "      \n",
        "  # Compute Black-Scholes delta for S_range.\n",
        "  # Reference: https://en.wikipedia.org/wiki/Greeks_(finance)\n",
        "  d1 = (np.log(S_range) - np.log(strike) + \\\n",
        "        (risk_free - dividend + (sigma**2)/2)*tau) \\\n",
        "              / (sigma*np.sqrt(tau))  \n",
        "                \n",
        "  model_delta = norm.cdf(d1)*np.exp(-dividend*tau)\n",
        "\n",
        "  if share_stretegy_across_time is False:\n",
        "    submodel = Delta_SubModel(model = model_simple, \\\n",
        "                      days_from_today = days_from_today)\n",
        "  else:\n",
        "    submodel = Delta_SubModel(model = model_simple, \\\n",
        "                      days_from_today = 0)\n",
        "    \n",
        "  nn_delta = submodel(I_range)\n",
        "\n",
        "  # Create a plot of Black-Scholes delta against deep hedging delta.\n",
        "  fig_delta = plt.figure(dpi= 125, facecolor='w')\n",
        "  fig_delta.suptitle(\"Black-Scholes Delta vs Deep Hedging Delta \\n\", \\\n",
        "        fontweight=\"bold\")\n",
        "  ax_delta = fig_delta.add_subplot()\n",
        "  ax_delta.set_title(\"Simple Network Structure with \" + \\\n",
        "              \"t=\" + str(days_from_today) + \", \" + \\\n",
        "                \"epsilon=\" + str(epsilon), \\\n",
        "                fontsize=8)\n",
        "  ax_delta.set_xlabel(\"Price of the Underlying Asset\")\n",
        "  ax_delta.set_ylabel(\"Delta\")\n",
        "  ax_delta.plot(S_range, model_delta, label=\"Black-Scholes Delta\")\n",
        "  ax_delta.scatter(S_range,nn_delta, c=\"red\", s=2, label=\"Deep Hedging Delta\")\n",
        "  ax_delta.legend()\n",
        "  plt.show()"
      ],
      "metadata": {
        "id": "tOml0UjlVp-8",
        "colab": {
          "base_uri": "https://localhost:8080/",
          "height": 241
        },
        "outputId": "1cabd18b-b750-4df1-96cd-ea5885294dd4"
      },
      "execution_count": 111,
      "outputs": [
        {
          "output_type": "error",
          "ename": "ValueError",
          "evalue": "ignored",
          "traceback": [
            "\u001b[0;31m---------------------------------------------------------------------------\u001b[0m",
            "\u001b[0;31mValueError\u001b[0m                                Traceback (most recent call last)",
            "\u001b[0;32m<ipython-input-111-6c13f2d738a4>\u001b[0m in \u001b[0;36m<module>\u001b[0;34m\u001b[0m\n\u001b[1;32m     13\u001b[0m     \u001b[0mI_range\u001b[0m \u001b[0;34m=\u001b[0m  \u001b[0mnp\u001b[0m\u001b[0;34m.\u001b[0m\u001b[0mlog\u001b[0m\u001b[0;34m(\u001b[0m\u001b[0mS_range\u001b[0m\u001b[0;34m)\u001b[0m\u001b[0;34m\u001b[0m\u001b[0;34m\u001b[0m\u001b[0m\n\u001b[1;32m     14\u001b[0m   \u001b[0;32melif\u001b[0m \u001b[0minformation_set\u001b[0m \u001b[0;32mis\u001b[0m \u001b[0;34m\"normalized_log_S\"\u001b[0m\u001b[0;34m:\u001b[0m\u001b[0;34m\u001b[0m\u001b[0;34m\u001b[0m\u001b[0m\n\u001b[0;32m---> 15\u001b[0;31m     \u001b[0mI_range\u001b[0m \u001b[0;34m=\u001b[0m  \u001b[0mnp\u001b[0m\u001b[0;34m.\u001b[0m\u001b[0mlog\u001b[0m\u001b[0;34m(\u001b[0m\u001b[0mS_range\u001b[0m\u001b[0;34m/\u001b[0m\u001b[0mS0\u001b[0m\u001b[0;34m)\u001b[0m\u001b[0;34m\u001b[0m\u001b[0;34m\u001b[0m\u001b[0m\n\u001b[0m\u001b[1;32m     16\u001b[0m \u001b[0;34m\u001b[0m\u001b[0m\n\u001b[1;32m     17\u001b[0m   \u001b[0;31m# Compute Black-Scholes delta for S_range.\u001b[0m\u001b[0;34m\u001b[0m\u001b[0;34m\u001b[0m\u001b[0;34m\u001b[0m\u001b[0m\n",
            "\u001b[0;31mValueError\u001b[0m: operands could not be broadcast together with shapes (101,) (31,) "
          ]
        }
      ]
    }
  ]
}