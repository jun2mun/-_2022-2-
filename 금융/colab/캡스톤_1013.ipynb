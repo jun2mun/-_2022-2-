{
  "nbformat": 4,
  "nbformat_minor": 0,
  "metadata": {
    "colab": {
      "provenance": [],
      "collapsed_sections": [],
      "machine_shape": "hm"
    },
    "kernelspec": {
      "name": "python3",
      "display_name": "Python 3"
    },
    "language_info": {
      "name": "python"
    },
    "accelerator": "GPU",
    "gpuClass": "standard"
  },
  "cells": [
    {
      "cell_type": "code",
      "source": [
        "!pip install -U tensorflow"
      ],
      "metadata": {
        "id": "2STLEkX7-ZJ8"
      },
      "execution_count": null,
      "outputs": []
    },
    {
      "cell_type": "code",
      "source": [
        "import pandas as pd\n",
        "import numpy as np\n",
        "from scipy import stats\n",
        "import matplotlib.pyplot as plt\n",
        "import tensorflow as tf\n",
        "import sys"
      ],
      "metadata": {
        "id": "CaU-_yNuN1TB"
      },
      "execution_count": null,
      "outputs": []
    },
    {
      "cell_type": "code",
      "source": [
        "def monte_carlo_paths(S_0, time_to_expiry, sigma, drift, seed, n_sims, n_timesteps):\n",
        "    \"\"\"\n",
        "    Create random paths of a underlying following a browian geometric motion\n",
        "    \n",
        "    input:\n",
        "    \n",
        "    S_0 = Spot at t_0\n",
        "    time_to_experiy = end of the timeseries (last observed time)\n",
        "    sigma = the volatiltiy (sigma in the geometric brownian motion)\n",
        "    drift = drift of the process\n",
        "    n_sims = number of paths to generate\n",
        "    n_timesteps = numbers of aquidistant time steps \n",
        "    \n",
        "    return:\n",
        "    \n",
        "    a (n_timesteps x n_sims x 1) matrix\n",
        "    \"\"\"\n",
        "    if seed > 0:\n",
        "            np.random.seed(seed)\n",
        "    stdnorm_random_variates = np.random.randn(n_sims, n_timesteps)\n",
        "    S = S_0\n",
        "    dt = time_to_expiry / stdnorm_random_variates.shape[1]\n",
        "    r = drift\n",
        "    # See Advanced Monte Carlo methods for barrier and related exotic options by Emmanuel Gobet\n",
        "    S_T = S * np.cumprod(np.exp((r-sigma**2/2)*dt+sigma*np.sqrt(dt)*stdnorm_random_variates), axis=1)\n",
        "    return np.reshape(np.transpose(np.c_[np.ones(n_sims)*S_0, S_T]), (n_timesteps+1, n_sims, 1))"
      ],
      "metadata": {
        "id": "IzYrh02uNsPD"
      },
      "execution_count": null,
      "outputs": []
    },
    {
      "cell_type": "code",
      "execution_count": null,
      "metadata": {
        "id": "lVZvNUwcNjSy"
      },
      "outputs": [],
      "source": [
        "S_0 = 100\n",
        "K = 100\n",
        "r = 0\n",
        "vol = 0.2\n",
        "T = 1/12\n",
        "timesteps = 30\n",
        "seed = 42\n",
        "n_sims = 10000\n",
        "\n",
        "paths_train = monte_carlo_paths(S_0,T,vol,r,seed,n_sims,timesteps)"
      ]
    },
    {
      "cell_type": "code",
      "source": [
        "STOCK_GRAPH = paths_train\n",
        "#print(STOCK_GRAPH.shape) # (31,50000,1) 31일간 시나리오를 50000개 갖고 있다.\n",
        "\n",
        "STOCK_T = np.reshape(STOCK_GRAPH[-1,:,0],(-1,1))\n",
        "print(STOCK_T.shape)\n",
        "STOCK_dS = STOCK_GRAPH[1:,:,0] - STOCK_GRAPH[0:-1,:,0]\n",
        "STOCK_dS = np.swapaxes(STOCK_dS,0,1)\n",
        "#STOCK_dS = STOCK_dS.astype(dtype='float64')\n",
        "STOCK_K = np.full((n_sims,1),100)\n",
        "print(STOCK_K.shape,STOCK_dS.shape)\n",
        "STOCK_GRAPH = tf.unstack(STOCK_GRAPH[:-1,:,:],axis=0)\n",
        "STOCK_GRAPH = tf.stack(STOCK_GRAPH)\n",
        "STOCK_GRAPH = np.swapaxes(STOCK_GRAPH,0,1)\n",
        "#STOCK_GRAPH = np.reshape(STOCK_GRAPH,(30,10000))\n",
        "#print(STOCK_GRAPH.shape)"
      ],
      "metadata": {
        "colab": {
          "base_uri": "https://localhost:8080/"
        },
        "id": "LPihJIhBNrd0",
        "outputId": "4a526707-fbdc-49cd-ddbf-90e71ed8f040"
      },
      "execution_count": null,
      "outputs": [
        {
          "output_type": "stream",
          "name": "stdout",
          "text": [
            "(10000, 1)\n",
            "(10000, 1) (10000, 30)\n"
          ]
        }
      ]
    },
    {
      "cell_type": "code",
      "source": [
        "batch_size =  1000\n",
        "features = 1\n",
        "K = 100\n",
        "alpha = 0.50\n",
        "epoch = 100"
      ],
      "metadata": {
        "id": "fGs2cEOOT4gZ"
      },
      "execution_count": null,
      "outputs": []
    },
    {
      "cell_type": "code",
      "source": [
        "def deep_lstm_model():\n",
        "    \n",
        "    input = tf.keras.layers.Input(shape=(30,1)) # (time_steps,feature)\n",
        "    # cell_state,hidden_state || last_time step hidden state (*2) , cell_state for last time step\n",
        "    output,state_h,state_c = tf.keras.layers.LSTM(64,return_state=True)(input)\n",
        "    #print(output,state_h,state_c)\n",
        "    output = tf.keras.layers.Dense(32,activation='tanh')(output)\n",
        "    output = tf.keras.layers.Dense(1)(output)\n",
        "    strategy = tf.reshape(output,(30,n_sims))\n",
        "    strategy = tf.cast(strategy,tf.float64)\n",
        "    option = tf.maximum(STOCK_T - STOCK_K,0)\n",
        "    Hedging_PnL = - option + tf.reshape(tf.reduce_sum(STOCK_dS * strategy, axis=0),(-1,1))\n",
        "    Hedging_PnL_paths = - np.reshape(option,(n_sims,)) + STOCK_dS * strategy\n",
        "    #print(Hedging_PnL_paths) #30,10000\n",
        "    #CVaR, idx = tf.math.top_k(-Hedging_PnL,k=tf.cast((1-alpha)* n_sims, tf.int64))\n",
        "    #print(tf.keras.backend.eval(tf.reshape(-Hedging_PnL,(-1,))))\n",
        "    #CVaR, idx = tf.math.top_k(-Hedging_PnL,k=tf.cast((1-alpha)* n_sims, tf.int64))\n",
        "    CVaR = tf.reduce_mean(-Hedging_PnL)\n",
        "    print(Hedging_PnL.shape,CVaR)\n",
        "    model = tf.keras.Model(inputs=input,outputs=CVaR)\n",
        "    #model.summary()\n",
        "    #print('hi',STOCK_dS.shape,strategy.shape,tf.reduce_sum(STOCK_dS * strategy, axis=0),option.shape,STOCK_T.shape,STOCK_K.shape)\n",
        "    print('stop')\n",
        "    return model\n",
        "  "
      ],
      "metadata": {
        "id": "zJ67zIdZODh9"
      },
      "execution_count": null,
      "outputs": []
    },
    {
      "cell_type": "code",
      "source": [
        "def deep_lstm_model():\n",
        "    batch_size = 100\n",
        "    inputs = STOCK_GRAPH[:batch_size,:,]\n",
        "    print(inputs.shape)\n",
        "    lstm = tf.keras.layers.RNN(tf.keras.layers.LSTMCell(4),return_state=True)\n",
        "    output , state_c, state_h = lstm(inputs)\n",
        "    #print(output,state_c,state_h)\n",
        "    output = tf.keras.layers.Dense(32,activation='tanh')(output)\n",
        "    output = tf.keras.layers.Dense(1)(output)\n",
        "    output = np.array(output)\n",
        "\n",
        "    print(output.shape) #(batch_size,1)\n",
        "    strategy = output\n",
        "    #strategy = np.reshape(output,(30,-1))\n",
        "    #print(strategy.shape)\n",
        "    #strategy = tf.cast(strategy,tf.float64)\n",
        "    \n",
        "    option = np.maximum(STOCK_T[:batch_size] - STOCK_K[:100],0)\n",
        "    print(option.shape) # (100,1)\n",
        "    print('cal',(STOCK_dS[:batch_size] * strategy).shape)\n",
        "    print(np.sum(STOCK_dS[:batch_size] * strategy, axis=1).shape) # (100,1)\n",
        "    Hedging_PnL = -option + np.sum(STOCK_dS[:batch_size] * strategy, axis=1)\n",
        "\n",
        "    Hedging_PnL_paths = - option + STOCK_dS[:batch_size] * strategy\n",
        "    find_k = int((1-alpha)*batch_size)\n",
        "    print(find_k)\n",
        "    top_k = np.partition(Hedging_PnL, -find_k)[-find_k:]\n",
        "    print(top_k)\n",
        "\n",
        "    #print(Hedging_PnL_paths) #30,10000\n",
        "    CVaR = np.mean(-Hedging_PnL)\n",
        "    print(Hedging_PnL.shape,CVaR)\n",
        "    opt = tf.keras.optimizers.Adam(learning_rate=0.1)\n",
        "    mse = tf.keras.losses.MeanSquaredError()\n",
        "    var1 = tf.Variable(CVaR)\n",
        "    loss = lambda: (var1 ** 2)/2.0       # d(loss)/d(var1) == var1\n",
        "    step_count = opt.minimize(loss, [var1]).numpy()\n",
        "    # The first step is `-learning_rate*sign(grad)`\n",
        "    var1.numpy()\n",
        "deep_lstm_model()\n"
      ],
      "metadata": {
        "colab": {
          "base_uri": "https://localhost:8080/"
        },
        "id": "1aHydLoFMoA4",
        "outputId": "649922cc-65f6-4570-9075-0565047e322b"
      },
      "execution_count": null,
      "outputs": [
        {
          "output_type": "stream",
          "name": "stdout",
          "text": [
            "(100, 30, 1)\n",
            "(100, 1)\n",
            "(100, 1)\n",
            "cal (100, 30)\n",
            "(100,)\n",
            "50\n",
            "[[-4.13717274e+00 -4.13717274e+00 -4.13717273e+00 ... -4.13717250e+00\n",
            "  -4.13717259e+00 -4.13717260e+00]\n",
            " [-2.19593873e-08 -1.49921644e-08 -1.37875197e-08 ...  2.24660447e-07\n",
            "   1.34508942e-07  1.20395253e-07]\n",
            " [-2.19593873e-08 -1.49921644e-08 -1.37875197e-08 ...  2.24660447e-07\n",
            "   1.34508942e-07  1.20395253e-07]\n",
            " ...\n",
            " [-7.48687502e+00 -7.48687502e+00 -7.48687501e+00 ... -7.48687478e+00\n",
            "  -7.48687487e+00 -7.48687488e+00]\n",
            " [-2.19593873e-08 -1.49921644e-08 -1.37875197e-08 ...  2.24660447e-07\n",
            "   1.34508942e-07  1.20395253e-07]\n",
            " [-2.29363976e+00 -2.29363975e+00 -2.29363975e+00 ... -2.29363951e+00\n",
            "  -2.29363960e+00 -2.29363961e+00]]\n",
            "(100, 100) 2.830316510816873\n"
          ]
        }
      ]
    },
    {
      "cell_type": "code",
      "source": [
        "model = deep_lstm_model()\n",
        "\n",
        "model.compile(loss='mse',optimizer='adam')\n",
        "#hist = model.fit(STOCK_GRAPH[:5000,:,],STOCK_T[:5000])\n",
        "\n"
      ],
      "metadata": {
        "colab": {
          "base_uri": "https://localhost:8080/",
          "height": 414
        },
        "id": "qRttazhXOO1F",
        "outputId": "52a17d3c-5806-4c7d-c07c-703dfd91be0a"
      },
      "execution_count": null,
      "outputs": [
        {
          "output_type": "error",
          "ename": "InvalidArgumentError",
          "evalue": "ignored",
          "traceback": [
            "\u001b[0;31m---------------------------------------------------------------------------\u001b[0m",
            "\u001b[0;31mInvalidArgumentError\u001b[0m                      Traceback (most recent call last)",
            "\u001b[0;32m<ipython-input-92-a193fda978ee>\u001b[0m in \u001b[0;36m<module>\u001b[0;34m\u001b[0m\n\u001b[0;32m----> 1\u001b[0;31m \u001b[0mmodel\u001b[0m \u001b[0;34m=\u001b[0m \u001b[0mdeep_lstm_model\u001b[0m\u001b[0;34m(\u001b[0m\u001b[0;34m)\u001b[0m\u001b[0;34m\u001b[0m\u001b[0;34m\u001b[0m\u001b[0m\n\u001b[0m\u001b[1;32m      2\u001b[0m \u001b[0;34m\u001b[0m\u001b[0m\n\u001b[1;32m      3\u001b[0m \u001b[0mmodel\u001b[0m\u001b[0;34m.\u001b[0m\u001b[0mcompile\u001b[0m\u001b[0;34m(\u001b[0m\u001b[0mloss\u001b[0m\u001b[0;34m=\u001b[0m\u001b[0;34m'mse'\u001b[0m\u001b[0;34m,\u001b[0m\u001b[0moptimizer\u001b[0m\u001b[0;34m=\u001b[0m\u001b[0;34m'adam'\u001b[0m\u001b[0;34m)\u001b[0m\u001b[0;34m\u001b[0m\u001b[0;34m\u001b[0m\u001b[0m\n\u001b[1;32m      4\u001b[0m \u001b[0;31m#hist = model.fit(STOCK_GRAPH[:5000,:,],STOCK_T[:5000])\u001b[0m\u001b[0;34m\u001b[0m\u001b[0;34m\u001b[0m\u001b[0;34m\u001b[0m\u001b[0m\n\u001b[1;32m      5\u001b[0m \u001b[0;34m\u001b[0m\u001b[0m\n",
            "\u001b[0;32m<ipython-input-91-cfce99393e41>\u001b[0m in \u001b[0;36mdeep_lstm_model\u001b[0;34m()\u001b[0m\n\u001b[1;32m      8\u001b[0m     \u001b[0moutput\u001b[0m \u001b[0;34m=\u001b[0m \u001b[0mtf\u001b[0m\u001b[0;34m.\u001b[0m\u001b[0mkeras\u001b[0m\u001b[0;34m.\u001b[0m\u001b[0mlayers\u001b[0m\u001b[0;34m.\u001b[0m\u001b[0mDense\u001b[0m\u001b[0;34m(\u001b[0m\u001b[0;36m32\u001b[0m\u001b[0;34m,\u001b[0m\u001b[0mactivation\u001b[0m\u001b[0;34m=\u001b[0m\u001b[0;34m'tanh'\u001b[0m\u001b[0;34m)\u001b[0m\u001b[0;34m(\u001b[0m\u001b[0moutput\u001b[0m\u001b[0;34m)\u001b[0m\u001b[0;34m\u001b[0m\u001b[0;34m\u001b[0m\u001b[0m\n\u001b[1;32m      9\u001b[0m     \u001b[0moutput\u001b[0m \u001b[0;34m=\u001b[0m \u001b[0mtf\u001b[0m\u001b[0;34m.\u001b[0m\u001b[0mkeras\u001b[0m\u001b[0;34m.\u001b[0m\u001b[0mlayers\u001b[0m\u001b[0;34m.\u001b[0m\u001b[0mDense\u001b[0m\u001b[0;34m(\u001b[0m\u001b[0;36m1\u001b[0m\u001b[0;34m)\u001b[0m\u001b[0;34m(\u001b[0m\u001b[0moutput\u001b[0m\u001b[0;34m)\u001b[0m\u001b[0;34m\u001b[0m\u001b[0;34m\u001b[0m\u001b[0m\n\u001b[0;32m---> 10\u001b[0;31m     \u001b[0mstrategy\u001b[0m \u001b[0;34m=\u001b[0m \u001b[0mtf\u001b[0m\u001b[0;34m.\u001b[0m\u001b[0mreshape\u001b[0m\u001b[0;34m(\u001b[0m\u001b[0moutput\u001b[0m\u001b[0;34m,\u001b[0m\u001b[0;34m(\u001b[0m\u001b[0;36m30\u001b[0m\u001b[0;34m,\u001b[0m\u001b[0mn_sims\u001b[0m\u001b[0;34m)\u001b[0m\u001b[0;34m)\u001b[0m\u001b[0;34m\u001b[0m\u001b[0;34m\u001b[0m\u001b[0m\n\u001b[0m\u001b[1;32m     11\u001b[0m     \u001b[0mstrategy\u001b[0m \u001b[0;34m=\u001b[0m \u001b[0mtf\u001b[0m\u001b[0;34m.\u001b[0m\u001b[0mcast\u001b[0m\u001b[0;34m(\u001b[0m\u001b[0mstrategy\u001b[0m\u001b[0;34m,\u001b[0m\u001b[0mtf\u001b[0m\u001b[0;34m.\u001b[0m\u001b[0mfloat64\u001b[0m\u001b[0;34m)\u001b[0m\u001b[0;34m\u001b[0m\u001b[0;34m\u001b[0m\u001b[0m\n\u001b[1;32m     12\u001b[0m     \u001b[0moption\u001b[0m \u001b[0;34m=\u001b[0m \u001b[0mtf\u001b[0m\u001b[0;34m.\u001b[0m\u001b[0mmaximum\u001b[0m\u001b[0;34m(\u001b[0m\u001b[0mSTOCK_T\u001b[0m \u001b[0;34m-\u001b[0m \u001b[0mSTOCK_K\u001b[0m\u001b[0;34m,\u001b[0m\u001b[0;36m0\u001b[0m\u001b[0;34m)\u001b[0m\u001b[0;34m\u001b[0m\u001b[0;34m\u001b[0m\u001b[0m\n",
            "\u001b[0;32m/usr/local/lib/python3.7/dist-packages/tensorflow/python/util/traceback_utils.py\u001b[0m in \u001b[0;36merror_handler\u001b[0;34m(*args, **kwargs)\u001b[0m\n\u001b[1;32m    151\u001b[0m     \u001b[0;32mexcept\u001b[0m \u001b[0mException\u001b[0m \u001b[0;32mas\u001b[0m \u001b[0me\u001b[0m\u001b[0;34m:\u001b[0m\u001b[0;34m\u001b[0m\u001b[0;34m\u001b[0m\u001b[0m\n\u001b[1;32m    152\u001b[0m       \u001b[0mfiltered_tb\u001b[0m \u001b[0;34m=\u001b[0m \u001b[0m_process_traceback_frames\u001b[0m\u001b[0;34m(\u001b[0m\u001b[0me\u001b[0m\u001b[0;34m.\u001b[0m\u001b[0m__traceback__\u001b[0m\u001b[0;34m)\u001b[0m\u001b[0;34m\u001b[0m\u001b[0;34m\u001b[0m\u001b[0m\n\u001b[0;32m--> 153\u001b[0;31m       \u001b[0;32mraise\u001b[0m \u001b[0me\u001b[0m\u001b[0;34m.\u001b[0m\u001b[0mwith_traceback\u001b[0m\u001b[0;34m(\u001b[0m\u001b[0mfiltered_tb\u001b[0m\u001b[0;34m)\u001b[0m \u001b[0;32mfrom\u001b[0m \u001b[0;32mNone\u001b[0m\u001b[0;34m\u001b[0m\u001b[0;34m\u001b[0m\u001b[0m\n\u001b[0m\u001b[1;32m    154\u001b[0m     \u001b[0;32mfinally\u001b[0m\u001b[0;34m:\u001b[0m\u001b[0;34m\u001b[0m\u001b[0;34m\u001b[0m\u001b[0m\n\u001b[1;32m    155\u001b[0m       \u001b[0;32mdel\u001b[0m \u001b[0mfiltered_tb\u001b[0m\u001b[0;34m\u001b[0m\u001b[0;34m\u001b[0m\u001b[0m\n",
            "\u001b[0;32m/usr/local/lib/python3.7/dist-packages/tensorflow/python/eager/execute.py\u001b[0m in \u001b[0;36mquick_execute\u001b[0;34m(op_name, num_outputs, inputs, attrs, ctx, name)\u001b[0m\n\u001b[1;32m     53\u001b[0m     \u001b[0mctx\u001b[0m\u001b[0;34m.\u001b[0m\u001b[0mensure_initialized\u001b[0m\u001b[0;34m(\u001b[0m\u001b[0;34m)\u001b[0m\u001b[0;34m\u001b[0m\u001b[0;34m\u001b[0m\u001b[0m\n\u001b[1;32m     54\u001b[0m     tensors = pywrap_tfe.TFE_Py_Execute(ctx._handle, device_name, op_name,\n\u001b[0;32m---> 55\u001b[0;31m                                         inputs, attrs, num_outputs)\n\u001b[0m\u001b[1;32m     56\u001b[0m   \u001b[0;32mexcept\u001b[0m \u001b[0mcore\u001b[0m\u001b[0;34m.\u001b[0m\u001b[0m_NotOkStatusException\u001b[0m \u001b[0;32mas\u001b[0m \u001b[0me\u001b[0m\u001b[0;34m:\u001b[0m\u001b[0;34m\u001b[0m\u001b[0;34m\u001b[0m\u001b[0m\n\u001b[1;32m     57\u001b[0m     \u001b[0;32mif\u001b[0m \u001b[0mname\u001b[0m \u001b[0;32mis\u001b[0m \u001b[0;32mnot\u001b[0m \u001b[0;32mNone\u001b[0m\u001b[0;34m:\u001b[0m\u001b[0;34m\u001b[0m\u001b[0;34m\u001b[0m\u001b[0m\n",
            "\u001b[0;31mInvalidArgumentError\u001b[0m: {{function_node __wrapped__Reshape_device_/job:localhost/replica:0/task:0/device:GPU:0}} Input to reshape is a tensor with 32 values, but the requested shape has 300000 [Op:Reshape]"
          ]
        }
      ]
    }
  ]
}